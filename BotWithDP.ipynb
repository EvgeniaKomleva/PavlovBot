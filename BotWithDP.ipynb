{
 "cells": [
  {
   "cell_type": "code",
   "execution_count": null,
   "metadata": {
    "colab": {
     "base_uri": "https://localhost:8080/",
     "height": 1000
    },
    "colab_type": "code",
    "id": "JeSE4a-SgRjo",
    "outputId": "288b248f-cef0-4e49-97ef-aa3cb27c0616",
    "pycharm": {
     "is_executing": true
    }
   },
   "outputs": [],
   "source": [
    "#!pip install deeppavlov\n",
    "#!python -m deeppavlov install gobot_dstc2_minimal"
   ]
  },
  {
   "cell_type": "markdown",
   "metadata": {
    "colab_type": "text",
    "id": "fbv3rMFngRlH"
   },
   "source": [
    "## 0. Подготовка данных"
   ]
  },
  {
   "cell_type": "markdown",
   "metadata": {
    "colab_type": "text",
    "id": "hTpb4EHbgRla"
   },
   "source": [
    "Тут нужно создать папку assistant_data и поместить в нее файлы (четыре)\n",
    "После этого можно запускать дальше\n",
    "Считываем данные:"
   ]
  },
  {
   "cell_type": "code",
   "execution_count": null,
   "metadata": {
    "colab": {},
    "colab_type": "code",
    "id": "B5oak1V5gRlq",
    "pycharm": {
     "is_executing": true
    }
   },
   "outputs": [],
   "source": [
    "from deeppavlov.dataset_readers.dstc2_reader import SimpleDSTC2DatasetReader\n",
    "\n",
    "\n",
    "class AssistantDatasetReader(SimpleDSTC2DatasetReader):\n",
    "    \n",
    "    \n",
    "    @staticmethod\n",
    "    def _data_fname(datatype):\n",
    "        assert datatype in ('val', 'trn', 'tst'), \"wrong datatype name\"\n",
    "        return f\"assistant-{datatype}.json\""
   ]
  },
  {
   "cell_type": "code",
   "execution_count": null,
   "metadata": {
    "colab": {
     "base_uri": "https://localhost:8080/",
     "height": 138
    },
    "colab_type": "code",
    "id": "I-GPAAWjgRmj",
    "outputId": "7ad86955-d972-4c8e-e321-c6abcafe225e",
    "pycharm": {
     "is_executing": true
    }
   },
   "outputs": [],
   "source": [
    "data = AssistantDatasetReader().read('assistant_data')"
   ]
  },
  {
   "cell_type": "code",
   "execution_count": null,
   "metadata": {
    "colab": {
     "base_uri": "https://localhost:8080/",
     "height": 50
    },
    "colab_type": "code",
    "id": "T_q_AMkCgRnO",
    "outputId": "6a234fc1-e322-40ba-ab38-9974b2b656a6",
    "pycharm": {
     "is_executing": true
    }
   },
   "outputs": [],
   "source": [
    "!ls assistant_data"
   ]
  },
  {
   "cell_type": "code",
   "execution_count": null,
   "metadata": {
    "colab": {
     "base_uri": "https://localhost:8080/",
     "height": 1000
    },
    "colab_type": "code",
    "id": "DOlrNl_9gRn9",
    "outputId": "c3dc8d8f-cac2-47f1-9e91-c1af13ff99aa",
    "pycharm": {
     "is_executing": true
    }
   },
   "outputs": [],
   "source": [
    "!head -n 310 assistant_data/assistant-trn.json"
   ]
  },
  {
   "cell_type": "markdown",
   "metadata": {
    "colab_type": "text",
    "id": "HbgaikNS9JY0"
   },
   "source": [
    "Делаем итератор по данным\n"
   ]
  },
  {
   "cell_type": "code",
   "execution_count": null,
   "metadata": {
    "colab": {},
    "colab_type": "code",
    "id": "9NYptoABgRol",
    "scrolled": true,
    "pycharm": {
     "is_executing": true
    }
   },
   "outputs": [],
   "source": [
    "from deeppavlov.dataset_iterators.dialog_iterator import DialogDatasetIterator\n",
    "\n",
    "iterator = DialogDatasetIterator(data)"
   ]
  },
  {
   "cell_type": "markdown",
   "metadata": {
    "colab_type": "text",
    "id": "hYh26FBDgRpL"
   },
   "source": [
    "You can now iterate over batches of preprocessed dialogs:"
   ]
  },
  {
   "cell_type": "code",
   "execution_count": null,
   "metadata": {
    "colab": {
     "base_uri": "https://localhost:8080/",
     "height": 370
    },
    "colab_type": "code",
    "id": "oMLknr2mgRpk",
    "outputId": "9424701d-6fc9-4816-b17b-2c2fb718dcec",
    "pycharm": {
     "is_executing": true
    }
   },
   "outputs": [],
   "source": [
    "from pprint import pprint\n",
    "\n",
    "for dialog in iterator.gen_batches(batch_size=1, data_type='train'):\n",
    "    turns_x, turns_y = dialog\n",
    "    \n",
    "    print(\"User utterances:\\n----------------\\n\")\n",
    "    pprint(turns_x[0], indent=4)\n",
    "    print(\"\\nSystem responses:\\n-----------------\\n\")\n",
    "    pprint(turns_y[0], indent=4)\n",
    "    \n",
    "    break\n",
    "\n",
    "print(\"\\n-----------------\")    \n",
    "print(f\"{len(iterator.get_instances('train')[0])} dialog(s) in train.\")\n",
    "print(f\"{len(iterator.get_instances('valid')[0])} dialog(s) in valid.\")\n",
    "print(f\"{len(iterator.get_instances('test')[0])} dialog(s) in test.\")"
   ]
  },
  {
   "cell_type": "markdown",
   "metadata": {
    "colab_type": "text",
    "id": "PbSQDMHfgRqo"
   },
   "source": [
    "## 1. Учим бота"
   ]
  },
  {
   "cell_type": "markdown",
   "metadata": {
    "colab_type": "text",
    "id": "TgXWO32vgRqy"
   },
   "source": [
    "\n",
    "\n",
    "&nbsp;\n",
    "![gobot_simple_templates.png](https://github.com/deepmipt/DeepPavlov/blob/master/examples/img/gobot_simple_templates.png?raw=1)\n",
    "&nbsp;\n",
    "\n",
    "Шаблоны должны быть в формате `act` TAB `<template>` где `<act> `- это диалоговое действие, а `<template>` - соответствующий ответ.\n",
    "\n"
   ]
  },
  {
   "cell_type": "markdown",
   "metadata": {
    "colab_type": "text",
    "id": "c6Ra1TzW-WGU"
   },
   "source": [
    "Список действий для нашего бота"
   ]
  },
  {
   "cell_type": "code",
   "execution_count": null,
   "metadata": {
    "colab": {
     "base_uri": "https://localhost:8080/",
     "height": 101
    },
    "colab_type": "code",
    "id": "lqg_cbfegRrJ",
    "outputId": "7fe9e325-1cee-4f5a-a908-dd9eed0dd5ed",
    "pycharm": {
     "is_executing": true
    }
   },
   "outputs": [],
   "source": [
    "!head -n 10 assistant_data/assistant-templates.txt"
   ]
  },
  {
   "cell_type": "markdown",
   "metadata": {
    "colab_type": "text",
    "id": "0EB74TkogRse"
   },
   "source": [
    "\n",
    "По сути, модуль диалога решает задачу классификации, где набор классов определяется в `assistant-templates.txt`. Таким образом, для обучения сети политики диалога вам понадобится ярлык действия для каждой очереди системы в обучающих диалогах. Наш набор данных помощника предоставляет `\" act \"` ключ словаря, который содержит действие, связанное с текущим ответом. Вот пример данных обучения для сети."
   ]
  },
  {
   "cell_type": "code",
   "execution_count": null,
   "metadata": {
    "colab": {
     "base_uri": "https://localhost:8080/",
     "height": 538
    },
    "colab_type": "code",
    "id": "o-Ny-LEYgRsq",
    "outputId": "661a6641-9ffd-4c0f-8048-f6ecba806ea9",
    "pycharm": {
     "is_executing": true
    }
   },
   "outputs": [],
   "source": [
    "!head -n 31 assistant_data/assistant-trn.json"
   ]
  },
  {
   "cell_type": "markdown",
   "metadata": {
    "colab_type": "text",
    "id": "o5P9piXwgRtl"
   },
   "source": [
    "Навыки в DeepPavlov определяются конфигурационными файлами. Итак, мы будем использовать минимальную конфигурацию бота DSTC2 (доступно больше конфигураций) и поменять разделы, отвечающие за:\n",
    "- embeddings,\n",
    "- шаблоны ответов,\n",
    "- пути загрузки и сохранения данных и моделей.\n",
    "\n",
    "Загрузим бот:"
   ]
  },
  {
   "cell_type": "code",
   "execution_count": null,
   "metadata": {
    "colab": {},
    "colab_type": "code",
    "id": "X59MSkmBgRt3",
    "pycharm": {
     "is_executing": true
    }
   },
   "outputs": [],
   "source": [
    "from deeppavlov import configs\n",
    "from deeppavlov.core.common.file import read_json\n",
    "\n",
    "gobot_config = read_json(configs.go_bot.gobot_dstc2_minimal)"
   ]
  },
  {
   "cell_type": "code",
   "execution_count": null,
   "metadata": {
    "colab": {},
    "colab_type": "code",
    "id": "XouQ1IBegRvR",
    "pycharm": {
     "is_executing": true
    }
   },
   "outputs": [],
   "source": [
    "from deeppavlov.download import download_resource\n",
    "\n",
    "#download_resource(url=\"http://files.deeppavlov.ai/embeddings/glove.6B.100d.txt\",\n",
    "#                  dest_paths=['assistant_bot/'])"
   ]
  },
  {
   "cell_type": "markdown",
   "metadata": {
    "colab_type": "text",
    "id": "KFhdvuWUBz5T"
   },
   "source": [
    "Изменяем конфигурации\n"
   ]
  },
  {
   "cell_type": "code",
   "execution_count": null,
   "metadata": {
    "colab": {},
    "colab_type": "code",
    "id": "FElG1xfjgRvq",
    "pycharm": {
     "is_executing": true
    }
   },
   "outputs": [],
   "source": [
    "gobot_config['chainer']['pipe'][-1]['embedder'] = {\n",
    "    \"class_name\": \"glove\",\n",
    "    \"load_path\": \"assistant_bot/small.txt\"\n",
    "}"
   ]
  },
  {
   "cell_type": "code",
   "execution_count": null,
   "metadata": {
    "colab": {},
    "colab_type": "code",
    "id": "yAACg0IAgRuq",
    "pycharm": {
     "is_executing": true
    }
   },
   "outputs": [],
   "source": [
    "gobot_config['chainer']['pipe'][-1]['nlg_manager']['template_path'] = 'assistant_data/assistant-templates.txt'\n",
    "gobot_config['chainer']['pipe'][-1]['nlg_manager']['api_call_action'] = None"
   ]
  },
  {
   "cell_type": "code",
   "execution_count": null,
   "metadata": {
    "colab": {},
    "colab_type": "code",
    "id": "pqhscSbhgRwK",
    "pycharm": {
     "is_executing": true
    }
   },
   "outputs": [],
   "source": [
    "gobot_config['dataset_reader']['class_name'] = '__main__:AssistantDatasetReader'\n",
    "gobot_config['metadata']['variables']['DATA_PATH'] = 'assistant_data'\n",
    "\n",
    "gobot_config['metadata']['variables']['MODEL_PATH'] = 'assistant_bot'"
   ]
  },
  {
   "cell_type": "code",
   "execution_count": null,
   "metadata": {
    "colab": {
     "base_uri": "https://localhost:8080/",
     "height": 1000
    },
    "colab_type": "code",
    "id": "ZRcmJBcvgR5D",
    "outputId": "d4baf4f4-d849-468a-9731-014bf4651d01",
    "pycharm": {
     "is_executing": true
    }
   },
   "outputs": [],
   "source": [
    "from deeppavlov import train_model\n",
    "\n",
    "gobot_config['train']['batch_size'] = 4 # set batch size\n",
    "gobot_config['train']['max_batches'] = 30 # maximum number of training batches\n",
    "gobot_config['train']['val_every_n_batches'] = 30 # evaluate on full 'valid' split every 30 epochs\n",
    "gobot_config['train']['log_every_n_batches'] = 5 # evaluate on full 'train' split every 5 batches\n",
    "\n",
    "train_model(gobot_config);"
   ]
  },
  {
   "cell_type": "markdown",
   "metadata": {
    "colab_type": "text",
    "id": "BMYLonE_gR_Q"
   },
   "source": [
    "\n",
    "\n",
    "Можно поменять конфиг файл [config doc page](http://docs.deeppavlov.ai/en/master/intro/configuration.html) "
   ]
  },
  {
   "cell_type": "markdown",
   "metadata": {
    "colab_type": "text",
    "id": "8CNlZyfSgSAi"
   },
   "source": [
    "# 2. Посмотрим как работает бот и запустим его в телеграмме \n",
    "Библиотека предоставляет возможности так же запускать на других платформах"
   ]
  },
  {
   "cell_type": "code",
   "execution_count": null,
   "metadata": {
    "colab": {
     "base_uri": "https://localhost:8080/",
     "height": 121
    },
    "colab_type": "code",
    "id": "kaUTLCl_gSAm",
    "outputId": "7934592c-ee8e-4543-bf89-cef9c7f8f4e2",
    "pycharm": {
     "is_executing": true
    }
   },
   "outputs": [],
   "source": [
    "from deeppavlov import build_model\n",
    "\n",
    "bot = build_model(gobot_config)"
   ]
  },
  {
   "cell_type": "code",
   "execution_count": null,
   "metadata": {
    "colab": {
     "base_uri": "https://localhost:8080/",
     "height": 34
    },
    "colab_type": "code",
    "id": "1UTvHL01gSA5",
    "outputId": "4a20d438-751c-4fd4-89ec-4cedb80b85f9",
    "pycharm": {
     "is_executing": true
    }
   },
   "outputs": [],
   "source": [
    "bot([[{\"text\": \"Добрый день\"}]])"
   ]
  },
  {
   "cell_type": "code",
   "execution_count": null,
   "metadata": {
    "colab": {
     "base_uri": "https://localhost:8080/",
     "height": 34
    },
    "colab_type": "code",
    "id": "YY_BdF-egSBT",
    "outputId": "477c4a3d-a1b4-410d-a787-7f1e0802cba8",
    "pycharm": {
     "is_executing": true
    }
   },
   "outputs": [],
   "source": [
    "bot([[{\"text\": \"монета\"}]])"
   ]
  },
  {
   "cell_type": "code",
   "execution_count": null,
   "metadata": {
    "colab": {
     "base_uri": "https://localhost:8080/",
     "height": 34
    },
    "colab_type": "code",
    "id": "-Xf1gCdmgSBr",
    "outputId": "cede56ff-0c43-4439-fe37-6623ba931a64",
    "pycharm": {
     "is_executing": true
    }
   },
   "outputs": [],
   "source": [
    "bot([[{\"text\": \"золотые\"}]])"
   ]
  },
  {
   "cell_type": "code",
   "execution_count": null,
   "metadata": {
    "pycharm": {
     "is_executing": true
    }
   },
   "outputs": [],
   "source": [
    "bot([[{\"text\": \"пока\"}]])"
   ]
  },
  {
   "cell_type": "code",
   "execution_count": null,
   "metadata": {
    "colab": {},
    "colab_type": "code",
    "id": "Ad_GDanAgSCi",
    "pycharm": {
     "is_executing": true
    }
   },
   "outputs": [],
   "source": [
    "bot.reset()"
   ]
  },
  {
   "cell_type": "code",
   "execution_count": null,
   "metadata": {
    "pycharm": {
     "is_executing": true
    }
   },
   "outputs": [],
   "source": [
    "bot([[{\"text\": \"Привет\"}]])"
   ]
  },
  {
   "cell_type": "code",
   "execution_count": null,
   "metadata": {
    "pycharm": {
     "is_executing": true
    }
   },
   "outputs": [],
   "source": [
    "bot([[{\"text\": \"Кредит\"}]])"
   ]
  },
  {
   "cell_type": "code",
   "execution_count": null,
   "metadata": {
    "pycharm": {
     "is_executing": true
    }
   },
   "outputs": [],
   "source": [
    "bot([[{\"text\": \"Коммерческий\"}]])"
   ]
  },
  {
   "cell_type": "code",
   "execution_count": null,
   "metadata": {
    "pycharm": {
     "is_executing": true
    }
   },
   "outputs": [],
   "source": [
    "bot([[{\"text\": \"Пока\"}]])"
   ]
  },
  {
   "cell_type": "code",
   "execution_count": null,
   "metadata": {
    "colab": {},
    "colab_type": "code",
    "id": "ynLiYjTKHzxh",
    "pycharm": {
     "is_executing": true
    }
   },
   "outputs": [],
   "source": [
    "bot.reset()"
   ]
  },
  {
   "cell_type": "markdown",
   "metadata": {
    "colab_type": "text",
    "id": "cfi2l8NuwY95"
   },
   "source": [
    "Посмотрим как это выглядит в телеграмме"
   ]
  },
  {
   "cell_type": "code",
   "execution_count": null,
   "metadata": {
    "colab": {
     "base_uri": "https://localhost:8080/",
     "height": 138
    },
    "colab_type": "code",
    "id": "sQck_KSDtzVS",
    "outputId": "5277b251-22cb-4681-a928-141002cc84c6",
    "pycharm": {
     "is_executing": true
    }
   },
   "outputs": [],
   "source": [
    "from deeppavlov.utils.telegram import interact_model_by_telegram\n",
    "\n",
    "interact_model_by_telegram(model_config=gobot_config, token='1153548935:AAFIZkbBaYKjzlpum6wVM6oTHviL4VYlPY8')"
   ]
  },
  {
   "cell_type": "code",
   "execution_count": null,
   "metadata": {
    "pycharm": {
     "is_executing": true
    }
   },
   "outputs": [],
   "source": []
  }
 ],
 "metadata": {
  "accelerator": "GPU",
  "colab": {
   "name": "BotWithDP.ipynb",
   "provenance": []
  },
  "kernelspec": {
   "display_name": "Python 3",
   "language": "python",
   "name": "python3"
  },
  "language_info": {
   "codemirror_mode": {
    "name": "ipython",
    "version": 3
   },
   "file_extension": ".py",
   "mimetype": "text/x-python",
   "name": "python",
   "nbconvert_exporter": "python",
   "pygments_lexer": "ipython3",
   "version": "3.7.7"
  }
 },
 "nbformat": 4,
 "nbformat_minor": 1
}