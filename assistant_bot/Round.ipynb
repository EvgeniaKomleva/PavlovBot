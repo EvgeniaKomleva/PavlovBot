{
 "cells": [
  {
   "cell_type": "code",
   "execution_count": 4,
   "metadata": {},
   "outputs": [],
   "source": [
    "fout = open('out.txt', 'wb')\n",
    "\n",
    "with open('multilingual_embeddings.ru', 'rb') as fin:\n",
    "    for line in fin.readlines():\n",
    "        print(line)\n",
    "        values = line.split()\n",
    "        for val in values:\n",
    "            new_val = round(float(val), 6) # 3 digit precision\n",
    "            fout.write(new_val)\n",
    "            fout.write(' ')\n",
    "        fout.write('\\n')\n",
    "\n",
    "fout.close()"
   ]
  },
  {
   "cell_type": "code",
   "execution_count": null,
   "metadata": {},
   "outputs": [],
   "source": []
  }
 ],
 "metadata": {
  "kernelspec": {
   "display_name": "Python 3",
   "language": "python",
   "name": "python3"
  },
  "language_info": {
   "codemirror_mode": {
    "name": "ipython",
    "version": 3
   },
   "file_extension": ".py",
   "mimetype": "text/x-python",
   "name": "python",
   "nbconvert_exporter": "python",
   "pygments_lexer": "ipython3",
   "version": "3.7.7"
  }
 },
 "nbformat": 4,
 "nbformat_minor": 4
}
